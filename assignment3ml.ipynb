{
  "nbformat": 4,
  "nbformat_minor": 0,
  "metadata": {
    "colab": {
      "provenance": []
    },
    "kernelspec": {
      "name": "python3",
      "display_name": "Python 3"
    },
    "language_info": {
      "name": "python"
    }
  },
  "cells": [
    {
      "cell_type": "code",
      "execution_count": 1,
      "metadata": {
        "id": "ZrZZsdc5pJz2"
      },
      "outputs": [],
      "source": [
        "import pandas as pd\n",
        "import numpy as np\n",
        "from sklearn.preprocessing import StandardScaler\n",
        "from sklearn.metrics import r2_score\n",
        "from sklearn.model_selection import KFold\n"
      ]
    },
    {
      "cell_type": "code",
      "source": [
        "\n",
        "file_path = \"/content/USA_Housing.csv\"  # replace with your local file path\n",
        "data = pd.read_csv(file_path)\n",
        "\n",
        "\n"
      ],
      "metadata": {
        "id": "k4t8hz6DptrU"
      },
      "execution_count": 2,
      "outputs": []
    },
    {
      "cell_type": "code",
      "source": [
        "X = data.drop('Price', axis=1).values\n",
        "y = data['Price'].values\n"
      ],
      "metadata": {
        "id": "GqjawNg8p-1D"
      },
      "execution_count": 3,
      "outputs": []
    },
    {
      "cell_type": "code",
      "source": [
        "scaler = StandardScaler()\n",
        "X_scaled = scaler.fit_transform(X)"
      ],
      "metadata": {
        "id": "k0ew2Z2sp-3x"
      },
      "execution_count": 4,
      "outputs": []
    },
    {
      "cell_type": "code",
      "source": [
        "kf = KFold(n_splits=5, shuffle=True, random_state=42)\n",
        "r2_scores = []\n",
        "beta_list = []"
      ],
      "metadata": {
        "id": "mA96BYvJp-7U"
      },
      "execution_count": 5,
      "outputs": []
    },
    {
      "cell_type": "code",
      "source": [
        "for train_idx, test_idx in kf.split(X_scaled):\n",
        "    X_train, X_test = X_scaled[train_idx], X_scaled[test_idx]\n",
        "    y_train, y_test = y[train_idx], y[test_idx]\n",
        "\n",
        "\n",
        "    X_train = np.hstack((np.ones((X_train.shape[0], 1)), X_train))\n",
        "    X_test = np.hstack((np.ones((X_test.shape[0], 1)), X_test))\n",
        "\n",
        "\n",
        "    beta = np.linalg.inv(X_train.T @ X_train) @ (X_train.T @ y_train)\n",
        "    beta_list.append(beta)\n",
        "\n",
        "\n",
        "    y_pred = X_test @ beta\n",
        "    score = r2_score(y_test, y_pred)\n",
        "    r2_scores.append(score)\n",
        "    print(f\"Fold R²: {score:.4f}\")"
      ],
      "metadata": {
        "colab": {
          "base_uri": "https://localhost:8080/"
        },
        "id": "JL_ysUXbqpG-",
        "outputId": "33adc8d7-58d6-4e3c-996a-217f559b1e25"
      },
      "execution_count": 6,
      "outputs": [
        {
          "output_type": "stream",
          "name": "stdout",
          "text": [
            "Fold R²: 0.9180\n",
            "Fold R²: 0.9146\n",
            "Fold R²: 0.9116\n",
            "Fold R²: 0.9193\n",
            "Fold R²: 0.9244\n"
          ]
        }
      ]
    },
    {
      "cell_type": "code",
      "source": [
        "best_beta = beta_list[np.argmax(r2_scores)]\n",
        "X_train70, X_test30, y_train70, y_test30 = train_test_split(\n",
        "    X_scaled, y, test_size=0.3, random_state=42\n",
        ")\n"
      ],
      "metadata": {
        "id": "LxZg64oNrTOF"
      },
      "execution_count": 11,
      "outputs": []
    },
    {
      "cell_type": "code",
      "source": [
        "from sklearn.model_selection import train_test_split\n",
        "\n"
      ],
      "metadata": {
        "id": "Y4W-Rxx7rcrw"
      },
      "execution_count": 10,
      "outputs": []
    },
    {
      "cell_type": "code",
      "source": [
        "X_train70 = np.hstack((np.ones((X_train70.shape[0], 1)), X_train70))\n",
        "X_test30 = np.hstack((np.ones((X_test30.shape[0], 1)), X_test30))\n",
        "\n",
        "y_pred_final = X_test30 @ best_beta\n",
        "final_r2 = r2_score(y_test30, y_pred_final)\n",
        "print(\"\\nFinal R² on 30% Test Set:\", round(final_r2, 4))"
      ],
      "metadata": {
        "colab": {
          "base_uri": "https://localhost:8080/"
        },
        "id": "GhXf5DRSri9C",
        "outputId": "fe39098b-4c2f-4c6f-cb24-fff3648be66b"
      },
      "execution_count": 12,
      "outputs": [
        {
          "output_type": "stream",
          "name": "stdout",
          "text": [
            "\n",
            "Final R² on 30% Test Set: 0.9147\n"
          ]
        }
      ]
    },
    {
      "cell_type": "code",
      "source": [
        "X_train, X_temp, y_train, y_temp = train_test_split(X_scaled, y, test_size=0.44, random_state=42)\n",
        "X_val, X_test, y_val, y_test = train_test_split(X_temp, y_temp, test_size=(30/44), random_state=42)\n",
        "\n",
        "# Add bias\n",
        "# Ensure y is reshaped to (n_samples, 1)\n",
        "y_train = y_train.reshape(-1, 1)\n",
        "y_val = y_val.reshape(-1, 1)\n",
        "y_test = y_test.reshape(-1, 1)\n"
      ],
      "metadata": {
        "id": "pJmJxcLkrqq1"
      },
      "execution_count": 16,
      "outputs": []
    },
    {
      "cell_type": "code",
      "source": [
        "def gradient_descent(X, y, lr, iterations=1000):\n",
        "    n_samples, n_features = X.shape\n",
        "    beta = np.zeros((n_features, 1))\n",
        "\n",
        "    for _ in range(iterations):\n",
        "        y_pred = X @ beta\n",
        "        gradient = (2/n_samples) * (X.T @ (y_pred - y))\n",
        "        beta -= lr * gradient\n",
        "    return beta"
      ],
      "metadata": {
        "id": "ANnA2VxUsY1Y"
      },
      "execution_count": 17,
      "outputs": []
    },
    {
      "cell_type": "code",
      "source": [
        "learning_rates = [0.001, 0.01, 0.1, 1]\n",
        "results = {}\n",
        "\n",
        "for lr in learning_rates:\n",
        "    beta_gd = gradient_descent(X_train, y_train, lr)\n",
        "    val_pred = X_val @ beta_gd\n",
        "    test_pred = X_test @ beta_gd\n",
        "\n",
        "    val_r2 = r2_score(y_val, val_pred)\n",
        "    test_r2 = r2_score(y_test, test_pred)\n",
        "\n",
        "    results[lr] = {\"val_r2\": val_r2, \"test_r2\": test_r2}\n",
        "    print(f\"LR={lr}: Validation R²={val_r2:.4f}, Test R²={test_r2:.4f}\")"
      ],
      "metadata": {
        "colab": {
          "base_uri": "https://localhost:8080/"
        },
        "id": "2XugVauhseC2",
        "outputId": "f1003d7e-ebb6-4917-de83-3ae1e532e6a7"
      },
      "execution_count": 18,
      "outputs": [
        {
          "output_type": "stream",
          "name": "stdout",
          "text": [
            "LR=0.001: Validation R²=-11.9301, Test R²=-11.8173\n",
            "LR=0.01: Validation R²=-11.8249, Test R²=-11.7898\n",
            "LR=0.1: Validation R²=-11.8249, Test R²=-11.7898\n",
            "LR=1: Validation R²=-inf, Test R²=-inf\n"
          ]
        },
        {
          "output_type": "stream",
          "name": "stderr",
          "text": [
            "/usr/local/lib/python3.12/dist-packages/sklearn/metrics/_regression.py:1275: RuntimeWarning: overflow encountered in square\n",
            "  numerator = xp.sum(weight * (y_true - y_pred) ** 2, axis=0)\n",
            "/usr/local/lib/python3.12/dist-packages/sklearn/metrics/_regression.py:1275: RuntimeWarning: overflow encountered in square\n",
            "  numerator = xp.sum(weight * (y_true - y_pred) ** 2, axis=0)\n"
          ]
        }
      ]
    },
    {
      "cell_type": "code",
      "source": [
        "best_lr = max(results, key=lambda k: results[k][\"val_r2\"])\n",
        "print(\"\\nBest Learning Rate:\", best_lr)"
      ],
      "metadata": {
        "colab": {
          "base_uri": "https://localhost:8080/"
        },
        "id": "9bBNWdsesncF",
        "outputId": "b99bba13-5b98-4252-a493-a231b7e2f2db"
      },
      "execution_count": 19,
      "outputs": [
        {
          "output_type": "stream",
          "name": "stdout",
          "text": [
            "\n",
            "Best Learning Rate: 0.1\n"
          ]
        }
      ]
    },
    {
      "cell_type": "code",
      "source": [
        "import pandas as pd\n",
        "import numpy as np\n",
        "from sklearn.preprocessing import LabelEncoder, StandardScaler\n",
        "from sklearn.linear_model import LinearRegression\n",
        "from sklearn.decomposition import PCA\n",
        "from sklearn.metrics import r2_score\n",
        "from sklearn.model_selection import train_test_split"
      ],
      "metadata": {
        "id": "Y-1qHD1VsqBV"
      },
      "execution_count": 20,
      "outputs": []
    },
    {
      "cell_type": "code",
      "source": [
        "url = \"https://archive.ics.uci.edu/ml/machine-learning-databases/autos/imports-85.data\"\n",
        "columns = [\"symboling\", \"normalized_losses\", \"make\", \"fuel_type\", \"aspiration\",\"num_doors\",\n",
        "           \"body_style\", \"drive_wheels\", \"engine_location\", \"wheel_base\", \"length\", \"width\",\n",
        "           \"height\", \"curb_weight\", \"engine_type\", \"num_cylinders\", \"engine_size\",\n",
        "           \"fuel_system\", \"bore\", \"stroke\", \"compression_ratio\", \"horsepower\",\n",
        "           \"peak_rpm\", \"city_mpg\", \"highway_mpg\", \"price\"]\n",
        "\n",
        "data = pd.read_csv(url, names=columns, na_values=\"?\")"
      ],
      "metadata": {
        "id": "FTBOKcQjswIw"
      },
      "execution_count": 21,
      "outputs": []
    },
    {
      "cell_type": "code",
      "source": [
        "for col in data.columns:\n",
        "    if data[col].dtype == \"object\":\n",
        "        # Fill categorical NaN with mode\n",
        "        data[col] = data[col].fillna(data[col].mode()[0])\n",
        "    else:\n",
        "        # Fill numeric NaN with median\n",
        "        data[col] = data[col].fillna(data[col].median())\n",
        "\n",
        "# Drop rows where price is still missing\n",
        "data = data.dropna(subset=[\"price\"])\n",
        "data[\"price\"] = data[\"price\"].astype(float)\n"
      ],
      "metadata": {
        "id": "diPw3xIetjIv"
      },
      "execution_count": 23,
      "outputs": []
    },
    {
      "cell_type": "code",
      "source": [
        "from sklearn.preprocessing import LabelEncoder\n",
        "\n",
        "# Convert words to numbers for num_doors and num_cylinders\n",
        "word_to_num = {\n",
        "    \"two\": 2, \"three\": 3, \"four\": 4, \"five\": 5,\n",
        "    \"six\": 6, \"eight\": 8, \"twelve\": 12\n",
        "}\n",
        "data[\"num_doors\"] = data[\"num_doors\"].replace(word_to_num)\n",
        "data[\"num_cylinders\"] = data[\"num_cylinders\"].replace(word_to_num)\n",
        "\n",
        "# One-hot encoding for body_style, drive_wheels\n",
        "data = pd.get_dummies(data, columns=[\"body_style\", \"drive_wheels\"], drop_first=True)\n"
      ],
      "metadata": {
        "colab": {
          "base_uri": "https://localhost:8080/"
        },
        "id": "twzj0PuLtnhn",
        "outputId": "b610d57a-ddb4-45db-d21d-b8699212cd91"
      },
      "execution_count": 24,
      "outputs": [
        {
          "output_type": "stream",
          "name": "stderr",
          "text": [
            "/tmp/ipython-input-2529235349.py:8: FutureWarning: Downcasting behavior in `replace` is deprecated and will be removed in a future version. To retain the old behavior, explicitly call `result.infer_objects(copy=False)`. To opt-in to the future behavior, set `pd.set_option('future.no_silent_downcasting', True)`\n",
            "  data[\"num_doors\"] = data[\"num_doors\"].replace(word_to_num)\n",
            "/tmp/ipython-input-2529235349.py:9: FutureWarning: Downcasting behavior in `replace` is deprecated and will be removed in a future version. To retain the old behavior, explicitly call `result.infer_objects(copy=False)`. To opt-in to the future behavior, set `pd.set_option('future.no_silent_downcasting', True)`\n",
            "  data[\"num_cylinders\"] = data[\"num_cylinders\"].replace(word_to_num)\n"
          ]
        }
      ]
    },
    {
      "cell_type": "code",
      "source": [
        "for col in [\"make\", \"aspiration\", \"engine_location\", \"fuel_type\"]:\n",
        "    le = LabelEncoder()\n",
        "    data[col] = le.fit_transform(data[col])\n",
        "\n",
        "# Binary encoding for special conditions\n",
        "data[\"fuel_system\"] = data[\"fuel_system\"].apply(lambda x: 1 if \"pfi\" in str(x) else 0)\n",
        "data[\"engine_type\"] = data[\"engine_type\"].apply(lambda x: 1 if \"ohc\" in str(x) else 0)\n",
        "\n",
        "print(\"Preprocessing complete. Data sample:\")\n",
        "print(data.head())"
      ],
      "metadata": {
        "colab": {
          "base_uri": "https://localhost:8080/"
        },
        "id": "ETgDqKErtuO-",
        "outputId": "fd8ba983-af6a-46b2-aa75-fe037e1126e9"
      },
      "execution_count": 25,
      "outputs": [
        {
          "output_type": "stream",
          "name": "stdout",
          "text": [
            "Preprocessing complete. Data sample:\n",
            "   symboling  normalized_losses  make  fuel_type  aspiration  num_doors  \\\n",
            "0          3              115.0     0          1           0          2   \n",
            "1          3              115.0     0          1           0          2   \n",
            "2          1              115.0     0          1           0          2   \n",
            "3          2              164.0     1          1           0          4   \n",
            "4          2              164.0     1          1           0          4   \n",
            "\n",
            "   engine_location  wheel_base  length  width  ...  peak_rpm  city_mpg  \\\n",
            "0                0        88.6   168.8   64.1  ...    5000.0        21   \n",
            "1                0        88.6   168.8   64.1  ...    5000.0        21   \n",
            "2                0        94.5   171.2   65.5  ...    5000.0        19   \n",
            "3                0        99.8   176.6   66.2  ...    5500.0        24   \n",
            "4                0        99.4   176.6   66.4  ...    5500.0        18   \n",
            "\n",
            "   highway_mpg    price  body_style_hardtop  body_style_hatchback  \\\n",
            "0           27  13495.0               False                 False   \n",
            "1           27  16500.0               False                 False   \n",
            "2           26  16500.0               False                  True   \n",
            "3           30  13950.0               False                 False   \n",
            "4           22  17450.0               False                 False   \n",
            "\n",
            "   body_style_sedan  body_style_wagon  drive_wheels_fwd  drive_wheels_rwd  \n",
            "0             False             False             False              True  \n",
            "1             False             False             False              True  \n",
            "2             False             False             False              True  \n",
            "3              True             False              True             False  \n",
            "4              True             False             False             False  \n",
            "\n",
            "[5 rows x 30 columns]\n"
          ]
        }
      ]
    }
  ]
}