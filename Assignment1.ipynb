{
  "cells": [
    {
      "cell_type": "code",
      "execution_count": null,
      "metadata": {
        "id": "QpEweLDL4YnL"
      },
      "outputs": [],
      "source": [
        "import numpy as np"
      ]
    },
    {
      "cell_type": "code",
      "execution_count": null,
      "metadata": {
        "colab": {
          "base_uri": "https://localhost:8080/"
        },
        "id": "lEc4KBHjARAZ",
        "outputId": "f1ec78ba-66cf-4de7-837d-21430a57c6bf"
      },
      "outputs": [
        {
          "name": "stdout",
          "output_type": "stream",
          "text": [
            "[5 4 6 3 2 1]\n",
            "[5 4 6 3 2 1]\n"
          ]
        }
      ],
      "source": [
        "# Q1 a\n",
        "arr1=np.array([1,2,3,6,4,5])\n",
        "# two methods\n",
        "q1_a_1 = arr1[::-1]\n",
        "q1_a_2 = np.flip(arr1)\n",
        "print(q1_a_1)\n",
        "print(q1_a_2)"
      ]
    },
    {
      "cell_type": "code",
      "execution_count": null,
      "metadata": {
        "colab": {
          "base_uri": "https://localhost:8080/"
        },
        "id": "_7caxgEhAZmZ",
        "outputId": "e6d51084-25a4-48a7-a262-7f49564b56cf"
      },
      "outputs": [
        {
          "name": "stdout",
          "output_type": "stream",
          "text": [
            "[1 2 3 2 4 5 1 2 3]\n",
            "[1 2 3 2 4 5 1 2 3]\n",
            "[[1 2 3]\n",
            " [2 4 5]\n",
            " [1 2 3]]\n"
          ]
        }
      ],
      "source": [
        "# Q1 b\n",
        "arr2 = np.array([[1,2,3],[2,4,5],[1,2,3]])\n",
        "q1_b = arr2.flatten()\n",
        "print(q1_b)\n",
        "arr3 = np.array([[1,2,3],[2,4,5],[1,2,3]])\n",
        "q1_b_2 = arr3.ravel()\n",
        "print(q1_b_2)\n",
        "print(arr3)"
      ]
    },
    {
      "cell_type": "code",
      "execution_count": null,
      "metadata": {
        "colab": {
          "base_uri": "https://localhost:8080/"
        },
        "id": "J7MqrpyJCfnj",
        "outputId": "73836cf4-7520-4d1b-ec2f-2629e0991e7c"
      },
      "outputs": [
        {
          "name": "stdout",
          "output_type": "stream",
          "text": [
            "True\n"
          ]
        }
      ],
      "source": [
        "# Q1 c\n",
        "arr4 = np.array([[1, 2], [3, 4]])\n",
        "arr5 = np.array([[1, 2], [3, 4]])\n",
        "\n",
        "is_equal = np.array_equal(arr4, arr5)\n",
        "print(is_equal)"
      ]
    },
    {
      "cell_type": "code",
      "execution_count": null,
      "metadata": {
        "colab": {
          "base_uri": "https://localhost:8080/"
        },
        "id": "874hln4r3Z8G",
        "outputId": "51e68446-d949-4532-c807-ce07e50f7b65"
      },
      "outputs": [
        {
          "name": "stdout",
          "output_type": "stream",
          "text": [
            "1\n",
            "[0 5 7 8 9]\n",
            "1 3 \n",
            "\n",
            "indices of 1: [0 1 2]\n",
            "indices of 3: [4 8 9]\n"
          ]
        }
      ],
      "source": [
        "# Q1 d\n",
        "# i\n",
        "arr6 = np.array([1,2,3,4,5,1,2,1,1,1])\n",
        "maxele1 = np.bincount(arr6).argmax()\n",
        "print(maxele1)\n",
        "indices = np.where(arr6 == maxele1)\n",
        "print(indices[0])\n",
        "\n",
        "# ii\n",
        "arr7 = np.array([1, 1, 1, 2, 3, 4, 2, 4, 3, 3])\n",
        "y = np.bincount(arr7)\n",
        "maximum = max(y)\n",
        "\n",
        "most_frequent = []\n",
        "for i in range(len(y)):\n",
        "    if y[i] == maximum:\n",
        "        print(i, end=\" \")\n",
        "        most_frequent.append(i)\n",
        "print(\"\\n\")\n",
        "\n",
        "for value in most_frequent:\n",
        "    print(f\"indices of {value}: {np.where(arr7 == value)[0]}\")"
      ]
    },
    {
      "cell_type": "code",
      "execution_count": null,
      "metadata": {
        "colab": {
          "base_uri": "https://localhost:8080/"
        },
        "id": "6Y3j4Vi-4d9p",
        "outputId": "5ada2d3f-0362-42d9-b646-8c4656795497"
      },
      "outputs": [
        {
          "name": "stdout",
          "output_type": "stream",
          "text": [
            "[[ 4  1  9]\n",
            " [12  3  1]\n",
            " [ 4  5  6]]\n",
            "45\n",
            "[[20  9 16]]\n",
            "[[14]\n",
            " [16]\n",
            " [15]]\n"
          ]
        }
      ],
      "source": [
        "# Q1 e\n",
        "gfg = np.matrix('[4, 1, 9; 12, 3, 1; 4, 5, 6]')\n",
        "print(gfg)\n",
        "sum = np.sum(gfg)\n",
        "print(sum)\n",
        "print(np.sum(gfg, axis=0))\n",
        "print(np.sum(gfg, axis=1))"
      ]
    },
    {
      "cell_type": "code",
      "execution_count": null,
      "metadata": {
        "colab": {
          "base_uri": "https://localhost:8080/"
        },
        "id": "gfXtY-e68ApF",
        "outputId": "17d24162-d1e7-40be-c184-bc99c4d9693d"
      },
      "outputs": [
        {
          "name": "stdout",
          "output_type": "stream",
          "text": [
            "176\n",
            "Eigenvalues: [14.82527413+0.j        -0.91263707+5.2179769j -0.91263707-5.2179769j]\n",
            "Eigenvectors: [[-0.54315313+0.j         -0.24714905+0.37800988j -0.24714905-0.37800988j]\n",
            " [-0.60078042+0.j          0.80232082+0.j          0.80232082-0.j        ]\n",
            " [-0.58655568+0.j         -0.17340156-0.34962704j -0.17340156+0.34962704j]]\n",
            "Inverse: [[ 0.03125     0.09375    -0.0625    ]\n",
            " [-0.16346154 -0.02884615  0.25      ]\n",
            " [ 0.11538462 -0.03846154  0.        ]]\n",
            "Determinant: 416.0\n"
          ]
        }
      ],
      "source": [
        "# Q1 f\n",
        "# i\n",
        "n_array = np.array([[55, 25, 15],[30, 44, 2],[11, 45, 77]])\n",
        "trace = np.trace(n_array)\n",
        "print(trace)\n",
        "# ii\n",
        "eigenvalues, eigenvectors = np.linalg.eig(gfg)\n",
        "print(\"Eigenvalues:\", eigenvalues)\n",
        "# iii\n",
        "print(\"Eigenvectors:\", eigenvectors)\n",
        "# iv\n",
        "print(\"Inverse:\", np.linalg.inv(gfg))\n",
        "# v\n",
        "print(\"Determinant:\", np.linalg.det(gfg))\n"
      ]
    },
    {
      "cell_type": "code",
      "execution_count": null,
      "metadata": {
        "colab": {
          "base_uri": "https://localhost:8080/"
        },
        "id": "G_ZIzrQc98wI",
        "outputId": "4d2a0866-7050-4e57-fd4a-f8ab1c1a391d"
      },
      "outputs": [
        {
          "name": "stdout",
          "output_type": "stream",
          "text": [
            "[[16 19]\n",
            " [26 31]]\n",
            "[[0.66666667 1.        ]\n",
            " [1.         1.66666667]]\n",
            "[[16 19  5]\n",
            " [26 31  8]\n",
            " [46 55 14]]\n",
            "[[2.16666667 0.23333333]\n",
            " [0.23333333 5.36666667]]\n"
          ]
        }
      ],
      "source": [
        "# Q1 g\n",
        "\n",
        "p = np.array([[1, 2], [2, 3]])\n",
        "q = np.array([[4, 5], [6, 7]])\n",
        "print(np.dot(p, q))\n",
        "print(np.cov(p.flatten(), q.flatten()))\n",
        "\n",
        "p1 = np.array([[1, 2], [2, 3], [4, 5]])\n",
        "q1 = np.array([[4, 5, 1], [6, 7, 2]])\n",
        "print(np.dot(p1, q1))\n",
        "print(np.cov(p1.flatten(), q1.flatten()))"
      ]
    },
    {
      "cell_type": "code",
      "execution_count": null,
      "metadata": {
        "colab": {
          "base_uri": "https://localhost:8080/"
        },
        "id": "zTWkPmXmBaHI",
        "outputId": "f4ac9a34-bf42-4910-8cd4-15a13ec46f87"
      },
      "outputs": [
        {
          "name": "stdout",
          "output_type": "stream",
          "text": [
            "[[17 52]\n",
            " [13 62]]\n",
            "[[ 2 10  0 10 20  6]\n",
            " [ 3 15  0 15 30  9]\n",
            " [ 4 20  0 20 40 12]\n",
            " [ 3 15  0 15 30  9]\n",
            " [ 2 10  0 10 20  6]\n",
            " [ 9 45  0 45 90 27]]\n",
            "[[-20   4   7]\n",
            " [-84  36  20]]\n"
          ]
        }
      ],
      "source": [
        "# Q1 h\n",
        "\n",
        "x1 = np.array([[2, 3, 4], [3, 2, 9]])\n",
        "y1 = np.array([[1, 5, 0], [5, 10, 3]])\n",
        "\n",
        "print(np.inner(x1, y1))\n",
        "print(np.outer(x1, y1))\n",
        "print(np.cross(x1, y1))\n"
      ]
    },
    {
      "cell_type": "code",
      "execution_count": null,
      "metadata": {
        "colab": {
          "base_uri": "https://localhost:8080/"
        },
        "id": "2BXaK5lcByKs",
        "outputId": "7884ac0c-ea20-4120-ceb8-27c746bf0b41"
      },
      "outputs": [
        {
          "name": "stdout",
          "output_type": "stream",
          "text": [
            "[[1 2 3]\n",
            " [4 5 6]]\n",
            "[-3.5 -0.5  2.5]\n",
            "[[-2.75 -0.25 -3.75]\n",
            " [-1.5   1.5  -1.5 ]\n",
            " [-0.25  3.25  0.75]]\n",
            "[[-2.75 -0.25 -3.75]\n",
            " [-1.5   1.5  -1.5 ]\n",
            " [-0.25  3.25  0.75]]\n"
          ]
        }
      ],
      "source": [
        "# Q2 a\n",
        "array = np.array([[1, -2, 3],[-4, 5, -6]])\n",
        "print(np.abs(array))\n",
        "\n",
        "percentiles_flat = np.percentile(array, [25, 50, 75])\n",
        "print(percentiles_flat)\n",
        "percentiles_columns = np.percentile(array, [25, 50, 75], axis=0)\n",
        "print(percentiles_columns)\n",
        "percentiles_rows = np.percentile(array, [25, 50, 75], axis=0)\n",
        "print(percentiles_rows)"
      ]
    },
    {
      "cell_type": "code",
      "execution_count": null,
      "metadata": {
        "colab": {
          "base_uri": "https://localhost:8080/"
        },
        "id": "naLB_XTzCY6h",
        "outputId": "69b75b52-d009-4cd9-bfe4-29deaed3c741"
      },
      "outputs": [
        {
          "name": "stdout",
          "output_type": "stream",
          "text": [
            "\n",
            "Flattened array - Mean: -0.5, Median: -0.5, Std Dev: 3.8622100754188224\n",
            "[-1.5  1.5 -1.5]\n",
            "[-1.5  1.5 -1.5]\n",
            "[2.5 3.5 4.5]\n",
            "[ 0.66666667 -1.66666667]\n",
            "[ 1. -4.]\n",
            "[2.05480467 4.78423336]\n"
          ]
        }
      ],
      "source": [
        "# Q2 iii\n",
        "# Flattened statistics\n",
        "mean_flat = np.mean(array)\n",
        "median_flat = np.median(array)\n",
        "std_flat = np.std(array)\n",
        "print(f\"\\nFlattened array - Mean: {mean_flat}, Median: {median_flat}, Std Dev: {std_flat}\")\n",
        "\n",
        "# Column-wise statistics (axis=0)\n",
        "mean_cols = np.mean(array, axis=0)\n",
        "median_cols = np.median(array, axis=0)\n",
        "std_cols = np.std(array, axis=0)\n",
        "print(mean_cols)\n",
        "print(median_cols)\n",
        "print(std_cols)\n",
        "\n",
        "# Row-wise statistics (axis=1)\n",
        "mean_rows = np.mean(array, axis=1)\n",
        "median_rows = np.median(array, axis=1)\n",
        "std_rows = np.std(array, axis=1)\n",
        "print(mean_rows)\n",
        "print(median_rows)\n",
        "print(std_rows)"
      ]
    },
    {
      "cell_type": "code",
      "execution_count": null,
      "metadata": {
        "colab": {
          "base_uri": "https://localhost:8080/"
        },
        "id": "1rHBZbnlDYz3",
        "outputId": "43042579-3998-4c49-e3d6-f662b2c758e0"
      },
      "outputs": [
        {
          "name": "stdout",
          "output_type": "stream",
          "text": [
            "[-2. -2. -1.  0.  1.  1.  3.]\n",
            "[-1. -1. -0.  1.  2.  2.  3.]\n",
            "[-1. -1. -0.  0.  1.  1.  3.]\n",
            "[-2. -2. -0.  0.  2.  2.  3.]\n"
          ]
        }
      ],
      "source": [
        "# Q2 b\n",
        "a = np.array([-1.8, -1.6, -0.5, 0.5, 1.6, 1.8, 3.0])\n",
        "print(np.floor(a))\n",
        "print(np.ceil(a))\n",
        "print(np.trunc(a))\n",
        "print(np.round(a))"
      ]
    },
    {
      "cell_type": "code",
      "execution_count": null,
      "metadata": {
        "colab": {
          "base_uri": "https://localhost:8080/"
        },
        "id": "jNL1dvwBD05F",
        "outputId": "de088626-dfd3-4e88-a58d-1e4cc6c3dd1b"
      },
      "outputs": [
        {
          "name": "stdout",
          "output_type": "stream",
          "text": [
            "[ 10  16  16  52  54  62 453]\n",
            "[0 3 4 1 5 2 6]\n",
            "[10 16 16 52]\n",
            "[ 16  52  54  62 453]\n"
          ]
        }
      ],
      "source": [
        "array2 = np.array([10, 52, 62, 16, 16, 54, 453])\n",
        "print(np.sort(array2))\n",
        "indices_sorted = np.argsort(array2)\n",
        "print(indices_sorted)\n",
        "four_smallest = np.sort(array2)[:4]\n",
        "print(four_smallest)\n",
        "fifth_largest = np.sort(array2)[-5:]\n",
        "print(fifth_largest)"
      ]
    },
    {
      "cell_type": "code",
      "execution_count": null,
      "metadata": {
        "colab": {
          "base_uri": "https://localhost:8080/"
        },
        "id": "w3ok2Y8WEQRL",
        "outputId": "256ae1e9-defe-44cf-c272-ef822ce77d09"
      },
      "outputs": [
        {
          "name": "stdout",
          "output_type": "stream",
          "text": [
            "[1. 2. 3. 2.]\n",
            "[1.2 2.2]\n"
          ]
        }
      ],
      "source": [
        "# Q3 b\n",
        "array3 = np.array([1.0, 1.2, 2.2, 2.0, 3.0, 2.0])\n",
        "print(array3[array3 == np.floor(array3)])\n",
        "print(array3[array3 != np.floor(array3)])\n"
      ]
    },
    {
      "cell_type": "code",
      "execution_count": null,
      "metadata": {
        "colab": {
          "base_uri": "https://localhost:8080/"
        },
        "id": "cIU_OSYrE88b",
        "outputId": "2a6fd7f2-0645-48e0-e50c-495380cc9374"
      },
      "outputs": [
        {
          "name": "stdout",
          "output_type": "stream",
          "text": [
            "False\n",
            "/content\n"
          ]
        }
      ],
      "source": [
        "# Q 4\n",
        "from PIL import Image\n",
        "import os\n",
        "\n",
        "def img_to_array(path):\n",
        "    with Image.open(path) as img:\n",
        "        base = os.path.splitext(os.path.basename(path))[0]\n",
        "        if img.mode == 'L':\n",
        "            arr = np.array(img)\n",
        "            filename = base + '_gray.txt'\n",
        "            np.savetxt(filename, arr, fmt='%d')\n",
        "            print(f\"Grayscale image array saved as {filename}\")\n",
        "        else:\n",
        "            img = img.convert('RGB')\n",
        "            arr = np.array(img)\n",
        "            arr_2d = arr.reshape(-1, arr.shape[-1])\n",
        "            filename = base + '_rgb.txt'\n",
        "            np.savetxt(filename, arr_2d, fmt='%d')\n",
        "            print(f\"RGB image array saved as {filename}\")\n",
        "\n",
        "print(os.path.exists(r'C:\\grayscale.JPG'))\n",
        "print(os.getcwd())\n",
        "\n",
        "\n",
        "\n"
      ]
    },
    {
      "cell_type": "code",
      "execution_count": null,
      "metadata": {
        "colab": {
          "base_uri": "https://localhost:8080/",
          "height": 73
        },
        "id": "7ThKyN0MGp3H",
        "outputId": "4330435d-3552-4556-c894-498fb65a814f"
      },
      "outputs": [
        {
          "data": {
            "text/html": [
              "\n",
              "     <input type=\"file\" id=\"files-b6440c2f-20e6-4b15-a79f-d3f54e9bdc0f\" name=\"files[]\" multiple disabled\n",
              "        style=\"border:none\" />\n",
              "     <output id=\"result-b6440c2f-20e6-4b15-a79f-d3f54e9bdc0f\">\n",
              "      Upload widget is only available when the cell has been executed in the\n",
              "      current browser session. Please rerun this cell to enable.\n",
              "      </output>\n",
              "      <script>// Copyright 2017 Google LLC\n",
              "//\n",
              "// Licensed under the Apache License, Version 2.0 (the \"License\");\n",
              "// you may not use this file except in compliance with the License.\n",
              "// You may obtain a copy of the License at\n",
              "//\n",
              "//      http://www.apache.org/licenses/LICENSE-2.0\n",
              "//\n",
              "// Unless required by applicable law or agreed to in writing, software\n",
              "// distributed under the License is distributed on an \"AS IS\" BASIS,\n",
              "// WITHOUT WARRANTIES OR CONDITIONS OF ANY KIND, either express or implied.\n",
              "// See the License for the specific language governing permissions and\n",
              "// limitations under the License.\n",
              "\n",
              "/**\n",
              " * @fileoverview Helpers for google.colab Python module.\n",
              " */\n",
              "(function(scope) {\n",
              "function span(text, styleAttributes = {}) {\n",
              "  const element = document.createElement('span');\n",
              "  element.textContent = text;\n",
              "  for (const key of Object.keys(styleAttributes)) {\n",
              "    element.style[key] = styleAttributes[key];\n",
              "  }\n",
              "  return element;\n",
              "}\n",
              "\n",
              "// Max number of bytes which will be uploaded at a time.\n",
              "const MAX_PAYLOAD_SIZE = 100 * 1024;\n",
              "\n",
              "function _uploadFiles(inputId, outputId) {\n",
              "  const steps = uploadFilesStep(inputId, outputId);\n",
              "  const outputElement = document.getElementById(outputId);\n",
              "  // Cache steps on the outputElement to make it available for the next call\n",
              "  // to uploadFilesContinue from Python.\n",
              "  outputElement.steps = steps;\n",
              "\n",
              "  return _uploadFilesContinue(outputId);\n",
              "}\n",
              "\n",
              "// This is roughly an async generator (not supported in the browser yet),\n",
              "// where there are multiple asynchronous steps and the Python side is going\n",
              "// to poll for completion of each step.\n",
              "// This uses a Promise to block the python side on completion of each step,\n",
              "// then passes the result of the previous step as the input to the next step.\n",
              "function _uploadFilesContinue(outputId) {\n",
              "  const outputElement = document.getElementById(outputId);\n",
              "  const steps = outputElement.steps;\n",
              "\n",
              "  const next = steps.next(outputElement.lastPromiseValue);\n",
              "  return Promise.resolve(next.value.promise).then((value) => {\n",
              "    // Cache the last promise value to make it available to the next\n",
              "    // step of the generator.\n",
              "    outputElement.lastPromiseValue = value;\n",
              "    return next.value.response;\n",
              "  });\n",
              "}\n",
              "\n",
              "/**\n",
              " * Generator function which is called between each async step of the upload\n",
              " * process.\n",
              " * @param {string} inputId Element ID of the input file picker element.\n",
              " * @param {string} outputId Element ID of the output display.\n",
              " * @return {!Iterable<!Object>} Iterable of next steps.\n",
              " */\n",
              "function* uploadFilesStep(inputId, outputId) {\n",
              "  const inputElement = document.getElementById(inputId);\n",
              "  inputElement.disabled = false;\n",
              "\n",
              "  const outputElement = document.getElementById(outputId);\n",
              "  outputElement.innerHTML = '';\n",
              "\n",
              "  const pickedPromise = new Promise((resolve) => {\n",
              "    inputElement.addEventListener('change', (e) => {\n",
              "      resolve(e.target.files);\n",
              "    });\n",
              "  });\n",
              "\n",
              "  const cancel = document.createElement('button');\n",
              "  inputElement.parentElement.appendChild(cancel);\n",
              "  cancel.textContent = 'Cancel upload';\n",
              "  const cancelPromise = new Promise((resolve) => {\n",
              "    cancel.onclick = () => {\n",
              "      resolve(null);\n",
              "    };\n",
              "  });\n",
              "\n",
              "  // Wait for the user to pick the files.\n",
              "  const files = yield {\n",
              "    promise: Promise.race([pickedPromise, cancelPromise]),\n",
              "    response: {\n",
              "      action: 'starting',\n",
              "    }\n",
              "  };\n",
              "\n",
              "  cancel.remove();\n",
              "\n",
              "  // Disable the input element since further picks are not allowed.\n",
              "  inputElement.disabled = true;\n",
              "\n",
              "  if (!files) {\n",
              "    return {\n",
              "      response: {\n",
              "        action: 'complete',\n",
              "      }\n",
              "    };\n",
              "  }\n",
              "\n",
              "  for (const file of files) {\n",
              "    const li = document.createElement('li');\n",
              "    li.append(span(file.name, {fontWeight: 'bold'}));\n",
              "    li.append(span(\n",
              "        `(${file.type || 'n/a'}) - ${file.size} bytes, ` +\n",
              "        `last modified: ${\n",
              "            file.lastModifiedDate ? file.lastModifiedDate.toLocaleDateString() :\n",
              "                                    'n/a'} - `));\n",
              "    const percent = span('0% done');\n",
              "    li.appendChild(percent);\n",
              "\n",
              "    outputElement.appendChild(li);\n",
              "\n",
              "    const fileDataPromise = new Promise((resolve) => {\n",
              "      const reader = new FileReader();\n",
              "      reader.onload = (e) => {\n",
              "        resolve(e.target.result);\n",
              "      };\n",
              "      reader.readAsArrayBuffer(file);\n",
              "    });\n",
              "    // Wait for the data to be ready.\n",
              "    let fileData = yield {\n",
              "      promise: fileDataPromise,\n",
              "      response: {\n",
              "        action: 'continue',\n",
              "      }\n",
              "    };\n",
              "\n",
              "    // Use a chunked sending to avoid message size limits. See b/62115660.\n",
              "    let position = 0;\n",
              "    do {\n",
              "      const length = Math.min(fileData.byteLength - position, MAX_PAYLOAD_SIZE);\n",
              "      const chunk = new Uint8Array(fileData, position, length);\n",
              "      position += length;\n",
              "\n",
              "      const base64 = btoa(String.fromCharCode.apply(null, chunk));\n",
              "      yield {\n",
              "        response: {\n",
              "          action: 'append',\n",
              "          file: file.name,\n",
              "          data: base64,\n",
              "        },\n",
              "      };\n",
              "\n",
              "      let percentDone = fileData.byteLength === 0 ?\n",
              "          100 :\n",
              "          Math.round((position / fileData.byteLength) * 100);\n",
              "      percent.textContent = `${percentDone}% done`;\n",
              "\n",
              "    } while (position < fileData.byteLength);\n",
              "  }\n",
              "\n",
              "  // All done.\n",
              "  yield {\n",
              "    response: {\n",
              "      action: 'complete',\n",
              "    }\n",
              "  };\n",
              "}\n",
              "\n",
              "scope.google = scope.google || {};\n",
              "scope.google.colab = scope.google.colab || {};\n",
              "scope.google.colab._files = {\n",
              "  _uploadFiles,\n",
              "  _uploadFilesContinue,\n",
              "};\n",
              "})(self);\n",
              "</script> "
            ],
            "text/plain": [
              "<IPython.core.display.HTML object>"
            ]
          },
          "metadata": {},
          "output_type": "display_data"
        },
        {
          "name": "stdout",
          "output_type": "stream",
          "text": [
            "Saving grayscale.jpg to grayscale.jpg\n"
          ]
        }
      ],
      "source": [
        "from google.colab import files\n",
        "uploaded = files.upload()\n"
      ]
    },
    {
      "cell_type": "code",
      "execution_count": null,
      "metadata": {
        "colab": {
          "base_uri": "https://localhost:8080/"
        },
        "id": "z_oClnfxI8Q3",
        "outputId": "bd7c1285-ae3f-45cb-d04f-e4f0dfa385de"
      },
      "outputs": [
        {
          "name": "stdout",
          "output_type": "stream",
          "text": [
            "RGB image array saved as grayscale_rgb.txt\n"
          ]
        }
      ],
      "source": [
        "from PIL import Image\n",
        "import os\n",
        "\n",
        "def img_to_array(path):\n",
        "    with Image.open(path) as img:\n",
        "        base = os.path.splitext(os.path.basename(path))[0]\n",
        "        if img.mode == 'L':  \n",
        "            arr = np.array(img)\n",
        "            filename = base + '_gray.txt'\n",
        "            np.savetxt(filename, arr, fmt='%d')\n",
        "            print(f\"Grayscale image array saved as {filename}\")\n",
        "        elif img.mode in ['RGB', 'RGBA']:\n",
        "            img = img.convert('RGB')\n",
        "            arr = np.array(img)\n",
        "            arr_2d = arr.reshape(-1, arr.shape[-1])\n",
        "            filename = base + '_rgb.txt'\n",
        "            np.savetxt(filename, arr_2d, fmt='%d')\n",
        "            print(f\"RGB image array saved as {filename}\")\n",
        "        else:\n",
        "            print(\"Unsupported image mode:\", img.mode)\n",
        "\n",
        "img_to_array('grayscale.jpg')\n"
      ]
    },
    {
      "cell_type": "code",
      "execution_count": null,
      "metadata": {
        "colab": {
          "base_uri": "https://localhost:8080/",
          "height": 600
        },
        "id": "YRuFCASzJVb-",
        "outputId": "c4b7eda8-b1d0-4fdd-aaef-7e7746220511"
      },
      "outputs": [
        {
          "name": "stdout",
          "output_type": "stream",
          "text": [
            "(24000000, 3)\n",
            "[[217 217 217]\n",
            " [217 217 217]\n",
            " [217 217 217]\n",
            " ...\n",
            " [ 23  23  23]\n",
            " [ 22  22  22]\n",
            " [ 19  19  19]]\n"
          ]
        },
        {
          "name": "stderr",
          "output_type": "stream",
          "text": [
            "/usr/local/lib/python3.11/dist-packages/matplotlib/image.py:183: UserWarning: Data with more than 2**24 rows cannot be accurately displayed. Downsampling to less than 2**24 rows before displaying. To remove this warning, manually downsample your data.\n",
            "  warnings.warn(msg.format(n='2**24 rows'))\n"
          ]
        },
        {
          "data": {
            "image/png": "[encoded data removed]",
            "text/plain": [
              "<Figure size 640x480 with 1 Axes>"
            ]
          },
          "metadata": {},
          "output_type": "display_data"
        }
      ],
      "source": [
        "arr = np.loadtxt('grayscale_rgb.txt', dtype=int)\n",
        "print(arr.shape)         \n",
        "print(arr)              \n",
        "\n",
        "import matplotlib.pyplot as plt\n",
        "plt.imshow(arr, cmap='gray')\n",
        "plt.axis('off')\n",
        "plt.show()"
      ]
    },
    {
      "cell_type": "code",
      "execution_count": null,
      "metadata": {
        "id": "1JPpgKm-JtCe"
      },
      "outputs": [],
      "source": []
    }
  ],
  "metadata": {
    "colab": {
      "provenance": []
    },
    "kernelspec": {
      "display_name": "Python 3",
      "name": "python3"
    },
    "language_info": {
      "name": "python"
    }
  },
  "nbformat": 4,
  "nbformat_minor": 0
}
